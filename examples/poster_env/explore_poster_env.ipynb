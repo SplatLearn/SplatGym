{
 "cells": [
  {
   "cell_type": "code",
   "execution_count": null,
   "metadata": {},
   "outputs": [],
   "source": [
    "from pathlib import Path\n",
    "import os\n",
    "import sys\n",
    "import open3d as o3d\n",
    "from matplotlib import pyplot as plt\n",
    "import numpy as np\n",
    "\n",
    "# Add the src directory to the path so the nerfgym module can be imported\n",
    "base_dir = Path(os.getcwd()).parent.parent.resolve()\n",
    "sys.path.append(f\"{base_dir / 'src'}\")\n",
    "from nerfgym.NeRFEnv import NeRFEnv"
   ]
  },
  {
   "cell_type": "code",
   "execution_count": null,
   "metadata": {},
   "outputs": [],
   "source": [
    "# Please set session_name to the name of the session you want to use\n",
    "config_path = base_dir / \"outputs/poster/splatfacto/2024-11-15_002955/config.yml\"\n",
    "ply_path = base_dir / \"outputs/poster/point_cloud.ply\""
   ]
  },
  {
   "cell_type": "code",
   "execution_count": null,
   "metadata": {},
   "outputs": [],
   "source": [
    "# convert the point cloud to a .pcd file because pcl doesn't support .ply\n",
    "pcd = o3d.io.read_point_cloud(str(ply_path))\n",
    "pcd_path = ply_path.with_suffix('.pcd')\n",
    "o3d.io.write_point_cloud(str(pcd_path), pcd)"
   ]
  },
  {
   "cell_type": "code",
   "execution_count": null,
   "metadata": {},
   "outputs": [],
   "source": [
    "# Load point cloud\n",
    "pcd = o3d.io.read_point_cloud(str(pcd_path))\n",
    "\n",
    "# you can now navigate around the point cloud and decide where to crop the spurious points.\n",
    "o3d.visualization.draw_plotly([pcd], point_sample_factor=0.01)"
   ]
  },
  {
   "cell_type": "code",
   "execution_count": null,
   "metadata": {},
   "outputs": [],
   "source": [
    "# The minimum and maximum bounds of the volume in the x, y, and z directions\n",
    "min_bound = np.array([-4, -4, -4]) # these values are just example for the poster env\n",
    "max_bound = np.array([4, 4, 4])\n",
    "\n",
    "# Crop the point cloud to the volume\n",
    "vol = o3d.geometry.AxisAlignedBoundingBox(\n",
    "    min_bound=min_bound, max_bound=max_bound\n",
    ")\n",
    "pcd_cropped = pcd.crop(vol)\n",
    "\n",
    "# Visualize the cropped point cloud\n",
    "o3d.visualization.draw_plotly([pcd_cropped], point_sample_factor=0.1)"
   ]
  },
  {
   "cell_type": "code",
   "execution_count": null,
   "metadata": {},
   "outputs": [],
   "source": [
    "# Set the base directory to the root of the project due to some assumptions in the code\n",
    "os.chdir(base_dir)\n",
    "\n",
    "# Initialise the SplatGym environment\n",
    "nerf_env = NeRFEnv(\n",
    "    config_path,\n",
    "    pcd_path,\n",
    "    min_bound=min_bound,\n",
    "    max_bound=max_bound,\n",
    "    bbox_sides=2, # The size of the playable area\n",
    "    camera_box_size=[0.01,0.01,0.01]  # The size of the ego camera bounding box\n",
    ")"
   ]
  },
  {
   "cell_type": "code",
   "execution_count": null,
   "metadata": {},
   "outputs": [],
   "source": [
    "# Let's render the first image\n",
    "nerf_env.reset()\n",
    "img = nerf_env.render()\n",
    "plt.imshow(img)"
   ]
  },
  {
   "cell_type": "code",
   "execution_count": null,
   "metadata": {},
   "outputs": [],
   "source": [
    "# Now you can move around the environment and decide where to set the goal position.\n",
    "# Actions: 0: forward, 1: backward, 2: left, 3: right\n",
    "action = 0\n",
    "img, reward, truncated, done, info = nerf_env.step(0)\n",
    "print(f\"reward {reward}, truncated {truncated}, done {done}, info {info}\")\n",
    "print(f\"xyzrpy {nerf_env.vc.xyzrpy()}\")\n",
    "plt.imshow(img)\n",
    "plt.title(\"reward: {:.2f}\".format(reward))"
   ]
  },
  {
   "cell_type": "code",
   "execution_count": null,
   "metadata": {},
   "outputs": [],
   "source": [
    "nerf_env.goal_xyzrpy = [\n",
    "    0.3179229490458535,\n",
    "    0.044831075423480554,\n",
    "    -0.3,\n",
    "    90.00000000000004,\n",
    "    0.0,\n",
    "    80.0000000000001,\n",
    "]\n",
    "# set the step size for going forward and backwards\n",
    "nerf_env.TRANSLATE_STEP = 0.1\n",
    "nerf_env.reset()\n",
    "\n",
    "# transfer all the settings to the training script and you are ready to train"
   ]
  }
 ],
 "metadata": {
  "kernelspec": {
   "display_name": "nerfstudio",
   "language": "python",
   "name": "python3"
  },
  "language_info": {
   "codemirror_mode": {
    "name": "ipython",
    "version": 3
   },
   "file_extension": ".py",
   "mimetype": "text/x-python",
   "name": "python",
   "nbconvert_exporter": "python",
   "pygments_lexer": "ipython3",
   "version": "3.10.14"
  }
 },
 "nbformat": 4,
 "nbformat_minor": 2
}
